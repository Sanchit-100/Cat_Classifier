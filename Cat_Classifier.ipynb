{
  "nbformat": 4,
  "nbformat_minor": 0,
  "metadata": {
    "colab": {
      "provenance": []
    },
    "kernelspec": {
      "name": "python3",
      "display_name": "Python 3"
    },
    "language_info": {
      "name": "python"
    }
  },
  "cells": [
    {
      "cell_type": "code",
      "execution_count": null,
      "metadata": {
        "id": "73tpUt5Hd_Bx"
      },
      "outputs": [],
      "source": [
        "import numpy as np\n",
        "import matplotlib.pyplot as plt\n",
        "from lr_utils import load_dataset\n",
        "import h5py"
      ]
    },
    {
      "cell_type": "code",
      "source": [
        "train_set_x_org,train_set_y,test_set_x_org,test_set_y,classes=load_dataset()"
      ],
      "metadata": {
        "id": "OLQgqtCEeSgW"
      },
      "execution_count": null,
      "outputs": []
    },
    {
      "cell_type": "code",
      "source": [
        "plt.imshow(train_set_x_org[208])"
      ],
      "metadata": {
        "colab": {
          "base_uri": "https://localhost:8080/",
          "height": 449
        },
        "id": "LXIfvxGZH2h0",
        "outputId": "24199324-1a3c-4b8d-bcfc-97f56948d066"
      },
      "execution_count": null,
      "outputs": [
        {
          "output_type": "execute_result",
          "data": {
            "text/plain": [
              "<matplotlib.image.AxesImage at 0x7b74f806cee0>"
            ]
          },
          "metadata": {},
          "execution_count": 5
        },
        {
          "output_type": "display_data",
          "data": {
            "text/plain": [
              "<Figure size 640x480 with 1 Axes>"
            ],
            "image/png": "[encoded data removed]"
          },
          "metadata": {}
        }
      ]
    },
    {
      "cell_type": "code",
      "source": [
        "print(train_set_y[0,208])"
      ],
      "metadata": {
        "colab": {
          "base_uri": "https://localhost:8080/"
        },
        "id": "cc8uA1ZcIGch",
        "outputId": "1bfd418a-840f-4961-cb56-39177cfb6dae"
      },
      "execution_count": null,
      "outputs": [
        {
          "output_type": "stream",
          "name": "stdout",
          "text": [
            "0\n"
          ]
        }
      ]
    },
    {
      "cell_type": "code",
      "source": [
        "print(classes)"
      ],
      "metadata": {
        "colab": {
          "base_uri": "https://localhost:8080/"
        },
        "id": "Aui3CgqcIdSx",
        "outputId": "90ba3aaf-21ed-43bd-aabc-5f31a8ae51a3"
      },
      "execution_count": null,
      "outputs": [
        {
          "output_type": "stream",
          "name": "stdout",
          "text": [
            "[b'non-cat' b'cat']\n"
          ]
        }
      ]
    },
    {
      "cell_type": "code",
      "source": [
        "train_set_x_flatten=train_set_x_org.reshape(train_set_x_org.shape[1]*train_set_x_org.shape[2]*train_set_x_org.shape[3],train_set_x_org.shape[0])"
      ],
      "metadata": {
        "id": "CfZTWcrtIhYw"
      },
      "execution_count": null,
      "outputs": []
    },
    {
      "cell_type": "code",
      "source": [
        "print(train_set_x_flatten.shape)"
      ],
      "metadata": {
        "colab": {
          "base_uri": "https://localhost:8080/"
        },
        "id": "TH2m065QI3SX",
        "outputId": "8196be39-8d3f-4a31-e690-95469cc1e4d5"
      },
      "execution_count": null,
      "outputs": [
        {
          "output_type": "stream",
          "name": "stdout",
          "text": [
            "(12288, 209)\n"
          ]
        }
      ]
    },
    {
      "cell_type": "code",
      "source": [
        "test_set_x_flatten = test_set_x_org.reshape(test_set_x_org.shape[1]*test_set_x_org.shape[2]*test_set_x_org.shape[3],test_set_x_org.shape[0])"
      ],
      "metadata": {
        "id": "zNchQHXBI68x"
      },
      "execution_count": null,
      "outputs": []
    },
    {
      "cell_type": "code",
      "source": [
        "train_set_x = train_set_x_flatten/255.\n",
        "test_set_x = test_set_x_flatten/255."
      ],
      "metadata": {
        "id": "Gkfn08bwJCpI"
      },
      "execution_count": null,
      "outputs": []
    },
    {
      "cell_type": "code",
      "source": [
        "def sigmoid(z):\n",
        "  return 1/(1+np.exp(-z))"
      ],
      "metadata": {
        "id": "PjeEcY0-JV-D"
      },
      "execution_count": null,
      "outputs": []
    },
    {
      "cell_type": "code",
      "source": [
        "def initialize_with_zeroes(dim):\n",
        "  w=np.zeros((dim,1))\n",
        "  b=0\n",
        "  return w,b"
      ],
      "metadata": {
        "id": "E7KfllSVV0_N"
      },
      "execution_count": null,
      "outputs": []
    },
    {
      "cell_type": "code",
      "source": [
        "# GRADED FUNCTION: propagate\n",
        "def propagate(w, b, X, Y):\n",
        "    \"\"\"\n",
        "    Implement the cost function and its gradient for the propagation explained above\n",
        "\n",
        "    Arguments:\n",
        "    w -- weights, a numpy array of size (num_px * num_px * 3, 1)\n",
        "    b -- bias, a scalar\n",
        "    X -- data of size (num_px * num_px * 3, number of examples)\n",
        "    Y -- true \"label\" vector (containing 0 if non-cat, 1 if cat) of size (1, number of examples)\n",
        "\n",
        "    Return:\n",
        "    cost -- negative log-likelihood cost for logistic regression\n",
        "    dw -- gradient of the loss with respect to w, thus same shape as w\n",
        "    db -- gradient of the loss with respect to b, thus same shape as b\n",
        "\n",
        "    Tips:\n",
        "    - Write your code step by step for the propagation. np.log(), np.dot()\n",
        "    \"\"\"\n",
        "\n",
        "    m = X.shape[1]\n",
        "\n",
        "    # FORWARD PROPAGATION (FROM X TO COST)\n",
        "    ### START CODE HERE ### (≈ 2 lines of code)\n",
        "    A = sigmoid(np.dot(w.T,X) + b)              # compute activation\n",
        "    cost = np.sum(((- np.log(A))*Y + (-np.log(1-A))*(1-Y)))/m  # compute cost\n",
        "    ### END CODE HERE ###\n",
        "\n",
        "    # BACKWARD PROPAGATION (TO FIND GRAD)\n",
        "    ### START CODE HERE ### (≈ 2 lines of code)\n",
        "    dw = (np.dot(X,(A-Y).T))/m\n",
        "    db = (np.sum(A-Y))/m\n",
        "    ### END CODE HERE ###\n",
        "\n",
        "    assert(dw.shape == w.shape)\n",
        "    assert(db.dtype == float)\n",
        "    cost = np.squeeze(cost)\n",
        "    assert(cost.shape == ())\n",
        "\n",
        "    grads = {\"dw\": dw,\n",
        "             \"db\": db}\n",
        "\n",
        "    return grads, cost"
      ],
      "metadata": {
        "id": "OXg4wbmnWP4H"
      },
      "execution_count": null,
      "outputs": []
    },
    {
      "cell_type": "code",
      "source": [
        "def optimize(w , b , X , Y , num_iter , lr , print_cost = False):\n",
        "  costs=[]\n",
        "\n",
        "  for i in range(num_iter):\n",
        "    grads,cost=propagate(w, b, X, Y)\n",
        "    dw = grads[\"dw\"]\n",
        "    db = grads[\"db\"]\n",
        "\n",
        "    w = w - (lr*dw)\n",
        "    b = b - (lr*db)\n",
        "\n",
        "    if i%100==0:\n",
        "      costs.append(cost)\n",
        "      if(print_cost):\n",
        "        print(\"Cost after iter %i: %f\" %(i, cost))\n",
        "\n",
        "    #  Print cost after every 100 iterations\n",
        "\n",
        "  plt.plot(costs)\n",
        "  plt.ylabel('cost')\n",
        "  plt.xlabel('iterations')\n",
        "  plt.show()\n",
        "\n",
        "  parameters={\"w\":w, \"b\":b}\n",
        "  grads={\"dw\":dw, \"db\":db}\n",
        "  return parameters,grads,costs\n",
        "\n",
        "  # Note that both params and grads are dicts, costs is a list\n"
      ],
      "metadata": {
        "id": "2PX3O0Z7b3u0"
      },
      "execution_count": null,
      "outputs": []
    },
    {
      "cell_type": "code",
      "source": [
        "def predict(w,b,X):\n",
        "  m=X.shape[1]\n",
        "  Y_predicted=np.zeros((1,m))\n",
        "  w=w.reshape(X.shape[0],1)\n",
        "\n",
        "  A=sigmoid(np.dot(w.T,X)) + b\n",
        "  Y_predicted=(A>=0.5) * 1.0\n",
        "\n",
        "  return Y_predicted\n"
      ],
      "metadata": {
        "id": "GnLOWHCPeIh8"
      },
      "execution_count": null,
      "outputs": []
    },
    {
      "cell_type": "code",
      "source": [
        "def model(X_train, Y_train, X_test, Y_test, num_iter=2000, lr=0.5, print_cost=False):\n",
        "  w,b=initialize_with_zeroes(X_train.shape[0])\n",
        "  params,grads,cost=optimize(w,b,X_train, Y_train, num_iter, lr, print_cost)\n",
        "  w=params[\"w\"]\n",
        "  b=params[\"b\"]\n",
        "\n",
        "  Y_prediction_train=predict(w,b,X_train)\n",
        "  Y_prediction_test=predict(w,b,X_test)\n",
        "\n",
        "  # Calculating train,test accuracies\n",
        "  temp = Y_prediction_train-Y_train\n",
        "  temp=np.abs(temp)\n",
        "  temp=np.mean(temp)\n",
        "  temp=temp*100\n",
        "\n",
        "  temp=100-temp\n",
        "\n",
        "  temp2 = Y_prediction_test-Y_test\n",
        "  temp2=np.abs(temp2)\n",
        "  temp2=np.mean(temp2)\n",
        "  temp2=temp2*100\n",
        "\n",
        "  temp2=100-temp2\n",
        "\n",
        "  print(\"Train accuracy: \", temp)\n",
        "  print(\"Test accuracy: \",temp2)\n"
      ],
      "metadata": {
        "id": "pwOysI05SHZ_"
      },
      "execution_count": null,
      "outputs": []
    },
    {
      "cell_type": "code",
      "source": [
        "model1=model(train_set_x,train_set_y,test_set_x,test_set_y,num_iter=4000,lr=0.005,print_cost=True)"
      ],
      "metadata": {
        "colab": {
          "base_uri": "https://localhost:8080/",
          "height": 1000
        },
        "id": "oqAATd0nVecf",
        "outputId": "e190df5e-7a05-4554-e318-0af4e89ad055"
      },
      "execution_count": null,
      "outputs": [
        {
          "output_type": "stream",
          "name": "stdout",
          "text": [
            "Cost after iter 0: 0.693147\n",
            "Cost after iter 100: 0.709726\n",
            "Cost after iter 200: 0.657712\n",
            "Cost after iter 300: 0.614611\n",
            "Cost after iter 400: 0.578001\n",
            "Cost after iter 500: 0.546372\n",
            "Cost after iter 600: 0.518331\n",
            "Cost after iter 700: 0.492852\n",
            "Cost after iter 800: 0.469259\n",
            "Cost after iter 900: 0.447139\n",
            "Cost after iter 1000: 0.426262\n",
            "Cost after iter 1100: 0.406617\n",
            "Cost after iter 1200: 0.388723\n",
            "Cost after iter 1300: 0.374678\n",
            "Cost after iter 1400: 0.365826\n",
            "Cost after iter 1500: 0.358532\n",
            "Cost after iter 1600: 0.351612\n",
            "Cost after iter 1700: 0.345012\n",
            "Cost after iter 1800: 0.338704\n",
            "Cost after iter 1900: 0.332664\n",
            "Cost after iter 2000: 0.326870\n",
            "Cost after iter 2100: 0.321305\n",
            "Cost after iter 2200: 0.315951\n",
            "Cost after iter 2300: 0.310795\n",
            "Cost after iter 2400: 0.305822\n",
            "Cost after iter 2500: 0.301023\n",
            "Cost after iter 2600: 0.296386\n",
            "Cost after iter 2700: 0.291901\n",
            "Cost after iter 2800: 0.287560\n",
            "Cost after iter 2900: 0.283354\n",
            "Cost after iter 3000: 0.279278\n",
            "Cost after iter 3100: 0.275323\n",
            "Cost after iter 3200: 0.271485\n",
            "Cost after iter 3300: 0.267756\n",
            "Cost after iter 3400: 0.264132\n",
            "Cost after iter 3500: 0.260608\n",
            "Cost after iter 3600: 0.257179\n",
            "Cost after iter 3700: 0.253842\n",
            "Cost after iter 3800: 0.250591\n",
            "Cost after iter 3900: 0.247425\n"
          ]
        },
        {
          "output_type": "display_data",
          "data": {
            "text/plain": [
              "<Figure size 640x480 with 1 Axes>"
            ],
            "image/png": "[encoded data removed]"
          },
          "metadata": {}
        },
        {
          "output_type": "stream",
          "name": "stdout",
          "text": [
            "Train accuracy:  97.12918660287082\n",
            "Test accuracy:  34.0\n"
          ]
        }
      ]
    },
    {
      "cell_type": "code",
      "source": [],
      "metadata": {
        "id": "ztBBKLfpXTMl"
      },
      "execution_count": null,
      "outputs": []
    }
  ]
}